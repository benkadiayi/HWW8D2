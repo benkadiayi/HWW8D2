{
 "cells": [
  {
   "cell_type": "code",
   "execution_count": 1,
   "id": "dd04836d",
   "metadata": {},
   "outputs": [
    {
     "name": "stdout",
     "output_type": "stream",
     "text": [
      "Requirement already satisfied: pandas in /Users/benji/opt/anaconda3/lib/python3.8/site-packages (1.2.4)\r\n",
      "Requirement already satisfied: python-dateutil>=2.7.3 in /Users/benji/opt/anaconda3/lib/python3.8/site-packages (from pandas) (2.8.1)\r\n",
      "Requirement already satisfied: pytz>=2017.3 in /Users/benji/opt/anaconda3/lib/python3.8/site-packages (from pandas) (2021.1)\r\n",
      "Requirement already satisfied: numpy>=1.16.5 in /Users/benji/opt/anaconda3/lib/python3.8/site-packages (from pandas) (1.20.1)\r\n",
      "Requirement already satisfied: six>=1.5 in /Users/benji/opt/anaconda3/lib/python3.8/site-packages (from python-dateutil>=2.7.3->pandas) (1.15.0)\r\n"
     ]
    }
   ],
   "source": [
    "!pip install pandas"
   ]
  },
  {
   "cell_type": "code",
   "execution_count": 2,
   "id": "c459434c",
   "metadata": {},
   "outputs": [],
   "source": [
    "import pandas as pd"
   ]
  },
  {
   "cell_type": "code",
   "execution_count": 3,
   "id": "f8ec830d",
   "metadata": {},
   "outputs": [],
   "source": [
    "bos17 = pd.read_csv('../files/redsox_2017_hitting.txt', sep = ',')\n",
    "bos18 = pd.read_csv('../files/redsox_2018_hitting.txt', sep = ',')"
   ]
  },
  {
   "cell_type": "code",
   "execution_count": 4,
   "id": "24347379",
   "metadata": {},
   "outputs": [
    {
     "name": "stdout",
     "output_type": "stream",
     "text": [
      "       HR  RBI\n",
      "Team          \n",
      "BOS   168  735\n",
      "\n",
      "       HR  RBI\n",
      "Team          \n",
      "BOS   208  826\n"
     ]
    }
   ],
   "source": [
    "# step 1: Add a new column with the key 'Team' and all column values should be 'BOS'\n",
    "\n",
    "# step 2: Group by the 'Team' column and get total home runs and rbi's\n",
    "\n",
    "# Produce data for both 2017 and 2018 (ie print both seperated by a newline character \\n)\n",
    "\n",
    "\"\"\"\n",
    "TEAM    HR   RBI\n",
    "----------------\n",
    "BOS     144  538\n",
    "\"\"\"\n",
    "\n",
    "bos17['Team'] = 'BOS'\n",
    "bos18['Team'] = 'BOS'\n",
    "print(bos17.groupby('Team').sum()[['HR','RBI']])\n",
    "print('')\n",
    "print(bos18.groupby('Team').sum()[['HR','RBI']])\n"
   ]
  },
  {
   "cell_type": "code",
   "execution_count": 5,
   "id": "8a056667",
   "metadata": {},
   "outputs": [
    {
     "data": {
      "text/plain": [
       "Age    27.478261\n",
       "dtype: float64"
      ]
     },
     "execution_count": 5,
     "metadata": {},
     "output_type": "execute_result"
    }
   ],
   "source": [
    "bos17.mean()[['Age']]"
   ]
  }
 ],
 "metadata": {
  "kernelspec": {
   "display_name": "Python 3",
   "language": "python",
   "name": "python3"
  },
  "language_info": {
   "codemirror_mode": {
    "name": "ipython",
    "version": 3
   },
   "file_extension": ".py",
   "mimetype": "text/x-python",
   "name": "python",
   "nbconvert_exporter": "python",
   "pygments_lexer": "ipython3",
   "version": "3.8.8"
  }
 },
 "nbformat": 4,
 "nbformat_minor": 5
}
